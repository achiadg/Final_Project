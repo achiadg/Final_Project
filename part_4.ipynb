{
 "cells": [
  {
   "cell_type": "code",
   "execution_count": null,
   "metadata": {
    "collapsed": true
   },
   "outputs": [],
   "source": [
    "trump_right = 0\n",
    "hilary_right = 0\n",
    "seinfeld_right = 0\n",
    "obama_right = 0\n",
    "gadot_right = 0\n",
    "\n",
    "for i in range(0, 150):\n",
    "    if nb.predict([all_trump_tweets_BOW[i]]) == 'Donald J. Trump' :\n",
    "        trump_right = trump_right + 1\n",
    "    if nb.predict([all_hilary_tweets_BOW[i]]) == 'Hillary Clinton' :\n",
    "        hilary_right = hilary_right + 1\n",
    "    if nb.predict([all_obama_tweets_BOW[i]]) == 'Barack Obama' :\n",
    "        obama_right = obama_right + 1\n",
    "    if nb.predict([all_seinfeld_tweets_BOW[i]]) == 'Jerry Seinfeld' :\n",
    "        seinfeld_right = seinfeld_right + 1\n",
    "    if nb.predict([all_gadot_tweets_BOW[i]]) == 'Gal Gadot' :\n",
    "        gadot_right = gadot_right + 1\n",
    "    \n",
    "print (\"We Succeded in: \" + str((trump_right/150)*100) + \" precent in prediction which tweets are of Trump from the tweets we generated for him\")\n",
    "print (\"We Succeded in: \" + str((hilary_right/150)*100) + \" precent in prediction which tweets are of Hilary from the tweets we generated for her\")\n",
    "print (\"We Succeded in: \" + str((obama_right/150)*100) + \" precent in prediction which tweets are of obama from the tweets we generated for him\")\n",
    "print (\"We Succeded in: \" + str((seinfeld_right/150)*100) + \" precent in prediction which tweets are of Seinfeld from the tweets we generated for him\")\n",
    "print (\"We Succeded in: \" + str((gadot_right/150)*100) + \" precent in prediction which tweets are of Gal Gadot from the tweets we generated for her\")"
   ]
  },
  {
   "cell_type": "code",
   "execution_count": null,
   "metadata": {
    "collapsed": true
   },
   "outputs": [],
   "source": [
    "nb_predict_tweeters = []\n",
    "\n",
    "for i in range(0, 150):\n",
    "    nb_predict_tweeters.extend(nb.predict([all_trump_tweets_BOW[i]]))\n",
    "\n",
    "for i in range(0, 150):\n",
    "    nb_predict_tweeters.extend(nb.predict([all_hilary_tweets_BOW[i]]))\n",
    "\n",
    "for i in range(0, 150):\n",
    "    nb_predict_tweeters.extend(nb.predict([all_obama_tweets_BOW[i]]))\n",
    "    \n",
    "for i in range(0, 150):\n",
    "    nb_predict_tweeters.extend(nb.predict([all_seinfeld_tweets_BOW[i]]))\n",
    "    \n",
    "for i in range(0, 150):\n",
    "    nb_predict_tweeters.extend(nb.predict([all_gadot_tweets_BOW[i]]))"
   ]
  },
  {
   "cell_type": "code",
   "execution_count": null,
   "metadata": {
    "collapsed": true
   },
   "outputs": [],
   "source": [
    "import itertools\n",
    "import numpy as np\n",
    "import matplotlib.pyplot as plt\n",
    "\n",
    "from sklearn import svm, datasets\n",
    "from sklearn.model_selection import train_test_split\n",
    "from sklearn.metrics import confusion_matrix"
   ]
  },
  {
   "cell_type": "code",
   "execution_count": null,
   "metadata": {
    "collapsed": true
   },
   "outputs": [],
   "source": [
    "print(__doc__)\n",
    "\n",
    "class_names = ['Donald J. Trump', 'Hillary Clinton', 'Barack Obama', 'Jerry Seinfeld' ,'Gal Gadot' ]\n",
    "\n",
    "def plot_confusion_matrix(cm, classes,\n",
    "                          normalize=False,\n",
    "                          title='Confusion matrix',\n",
    "                          cmap=plt.cm.Blues):\n",
    "    \"\"\"\n",
    "    This function prints and plots the confusion matrix.\n",
    "    Normalization can be applied by setting `normalize=True`.\n",
    "    \"\"\"\n",
    "    if normalize:\n",
    "        cm = cm.astype('float') / cm.sum(axis=1)[:, np.newaxis]\n",
    "        print(\"Normalized confusion matrix\")\n",
    "    else:\n",
    "        print('Confusion matrix, without normalization')\n",
    "\n",
    "    print(cm)\n",
    "\n",
    "    plt.imshow(cm, interpolation='nearest', cmap=cmap)\n",
    "    plt.title(title)\n",
    "    plt.colorbar()\n",
    "    tick_marks = np.arange(len(classes))\n",
    "    plt.xticks(tick_marks, classes, rotation=45)\n",
    "    plt.yticks(tick_marks, classes)\n",
    "\n",
    "    fmt = '.2f' if normalize else 'd'\n",
    "    thresh = cm.max() / 2.\n",
    "    for i, j in itertools.product(range(cm.shape[0]), range(cm.shape[1])):\n",
    "        plt.text(j, i, format(cm[i, j], fmt),\n",
    "                 horizontalalignment=\"center\",\n",
    "                 color=\"white\" if cm[i, j] > thresh else \"black\")\n",
    "\n",
    "    plt.tight_layout()\n",
    "    plt.ylabel('True label')\n",
    "    plt.xlabel('Predicted label')\n",
    "\n",
    "# Compute confusion matrix\n",
    "cnf_matrix = confusion_matrix(actual_tweeters, nb_predict_tweeters)\n",
    "np.set_printoptions(precision=2)\n",
    "\n",
    "# Plot non-normalized confusion matrix\n",
    "plt.figure()\n",
    "plot_confusion_matrix(cnf_matrix, classes=class_names,\n",
    "                      title='Confusion matrix, without normalization')\n",
    "\n",
    "plt.show()"
   ]
  },
  {
   "cell_type": "code",
   "execution_count": null,
   "metadata": {
    "collapsed": true
   },
   "outputs": [],
   "source": [
    "trump_right = 0\n",
    "hilary_right = 0\n",
    "seinfeld_right = 0\n",
    "obama_right = 0\n",
    "gadot_right = 0\n",
    "\n",
    "for i in range(0, 150):\n",
    "    if regresion.predict([all_trump_tweets_BOW[i]]) == 'Donald J. Trump' :\n",
    "        trump_right = trump_right + 1\n",
    "    if regresion.predict([all_hilary_tweets_BOW[i]]) == 'Hillary Clinton' :\n",
    "        hilary_right = hilary_right + 1\n",
    "    if regresion.predict([all_obama_tweets_BOW[i]]) == 'Barack Obama' :\n",
    "        obama_right = obama_right + 1\n",
    "    if regresion.predict([all_seinfeld_tweets_BOW[i]]) == 'Jerry Seinfeld' :\n",
    "        seinfeld_right = seinfeld_right + 1\n",
    "    if regresion.predict([all_gadot_tweets_BOW[i]]) == 'Gal Gadot' :\n",
    "        gadot_right = gadot_right + 1\n",
    "    \n",
    "print (\"We Succeded in: \" + str((trump_right/150)*100) + \" precent in prediction which tweets are of Trump from the tweets we generated for him\")\n",
    "print (\"We Succeded in: \" + str((hilary_right/150)*100) + \" precent in prediction which tweets are of Hilary from the tweets we generated for her\")\n",
    "print (\"We Succeded in: \" + str((obama_right/150)*100) + \" precent in prediction which tweets are of obama from the tweets we generated for him\")\n",
    "print (\"We Succeded in: \" + str((seinfeld_right/150)*100) + \" precent in prediction which tweets are of Seinfeld from the tweets we generated for him\")\n",
    "print (\"We Succeded in: \" + str((gadot_right/150)*100) + \" precent in prediction which tweets are of Gal Gadot from the tweets we generated for her\")"
   ]
  },
  {
   "cell_type": "code",
   "execution_count": null,
   "metadata": {
    "collapsed": true
   },
   "outputs": [],
   "source": [
    "regresion_predict_tweeters = []\n",
    "\n",
    "for i in range(0, 150):\n",
    "    regresion_predict_tweeters.extend(regresion.predict([all_trump_tweets_BOW[i]]))\n",
    "\n",
    "for i in range(0, 150):\n",
    "    regresion_predict_tweeters.extend(regresion.predict([all_hilary_tweets_BOW[i]]))\n",
    "\n",
    "for i in range(0, 150):\n",
    "    regresion_predict_tweeters.extend(regresion.predict([all_obama_tweets_BOW[i]]))\n",
    "    \n",
    "for i in range(0, 150):\n",
    "    regresion_predict_tweeters.extend(regresion.predict([all_seinfeld_tweets_BOW[i]]))\n",
    "    \n",
    "for i in range(0, 150):\n",
    "    regresion_predict_tweeters.extend(regresion.predict([all_gadot_tweets_BOW[i]]))"
   ]
  },
  {
   "cell_type": "code",
   "execution_count": null,
   "metadata": {
    "collapsed": true
   },
   "outputs": [],
   "source": [
    "cnf_matrix = confusion_matrix(actual_tweeters, regresion_predict_tweeters)\n",
    "np.set_printoptions(precision=2)\n",
    "\n",
    "# Plot non-normalized confusion matrix\n",
    "plt.figure()\n",
    "plot_confusion_matrix(cnf_matrix, classes=class_names,\n",
    "                      title='Confusion matrix, without normalization')\n",
    "\n",
    "plt.show()"
   ]
  },
  {
   "cell_type": "code",
   "execution_count": null,
   "metadata": {
    "collapsed": true
   },
   "outputs": [],
   "source": [
    "trump_right = 0\n",
    "hilary_right = 0\n",
    "seinfeld_right = 0\n",
    "obama_right = 0\n",
    "gadot_right = 0\n",
    "\n",
    "for i in range(0, 150):\n",
    "    if svc.predict([all_trump_tweets_BOW[i]]) == 'Donald J. Trump' :\n",
    "        trump_right = trump_right + 1\n",
    "    if svc.predict([all_hilary_tweets_BOW[i]]) == 'Hillary Clinton' :\n",
    "        hilary_right = hilary_right + 1\n",
    "    if svc.predict([all_obama_tweets_BOW[i]]) == 'Barack Obama' :\n",
    "        obama_right = obama_right + 1\n",
    "    if svc.predict([all_seinfeld_tweets_BOW[i]]) == 'Jerry Seinfeld' :\n",
    "        seinfeld_right = seinfeld_right + 1\n",
    "    if svc.predict([all_gadot_tweets_BOW[i]]) == 'Gal Gadot' :\n",
    "        gadot_right = gadot_right + 1\n",
    "    \n",
    "print (\"We Succeded in: \" + str((trump_right/150)*100) + \" precent in prediction which tweets are of Trump from the tweets we generated for him\")\n",
    "print (\"We Succeded in: \" + str((hilary_right/150)*100) + \" precent in prediction which tweets are of Hilary from the tweets we generated for her\")\n",
    "print (\"We Succeded in: \" + str((obama_right/150)*100) + \" precent in prediction which tweets are of obama from the tweets we generated for him\")\n",
    "print (\"We Succeded in: \" + str((seinfeld_right/150)*100) + \" precent in prediction which tweets are of Seinfeld from the tweets we generated for him\")\n",
    "print (\"We Succeded in: \" + str((gadot_right/150)*100) + \" precent in prediction which tweets are of Gal Gadot from the tweets we generated for her\")"
   ]
  },
  {
   "cell_type": "code",
   "execution_count": null,
   "metadata": {
    "collapsed": true
   },
   "outputs": [],
   "source": [
    "svc_predict_tweeters = []\n",
    "\n",
    "for i in range(0, 150):\n",
    "    svc_predict_tweeters.extend(svc.predict([all_trump_tweets_BOW[i]]))\n",
    "\n",
    "for i in range(0, 150):\n",
    "    svc_predict_tweeters.extend(svc.predict([all_hilary_tweets_BOW[i]]))\n",
    "\n",
    "for i in range(0, 150):\n",
    "    svc_predict_tweeters.extend(svc.predict([all_obama_tweets_BOW[i]]))\n",
    "    \n",
    "for i in range(0, 150):\n",
    "    svc_predict_tweeters.extend(svc.predict([all_seinfeld_tweets_BOW[i]]))\n",
    "    \n",
    "for i in range(0, 150):\n",
    "    svc_predict_tweeters.extend(svc.predict([all_gadot_tweets_BOW[i]]))"
   ]
  },
  {
   "cell_type": "code",
   "execution_count": null,
   "metadata": {
    "collapsed": true
   },
   "outputs": [],
   "source": [
    "cnf_matrix = confusion_matrix(actual_tweeters, svc_predict_tweeters)\n",
    "np.set_printoptions(precision=2)\n",
    "\n",
    "# Plot non-normalized confusion matrix\n",
    "plt.figure()\n",
    "plot_confusion_matrix(cnf_matrix, classes=class_names,\n",
    "                      title='Confusion matrix, without normalization')\n",
    "\n",
    "plt.show()"
   ]
  },
  {
   "cell_type": "code",
   "execution_count": null,
   "metadata": {
    "collapsed": true
   },
   "outputs": [],
   "source": [
    "trump_right = 0\n",
    "hilary_right = 0\n",
    "seinfeld_right = 0\n",
    "obama_right = 0\n",
    "gadot_right = 0\n",
    "\n",
    "for i in range(0, 150):\n",
    "    if knn.predict([all_trump_tweets_BOW[i]]) == 'Donald J. Trump' :\n",
    "        trump_right = trump_right + 1\n",
    "    if knn.predict([all_hilary_tweets_BOW[i]]) == 'Hillary Clinton' :\n",
    "        hilary_right = hilary_right + 1\n",
    "    if knn.predict([all_obama_tweets_BOW[i]]) == 'Barack Obama' :\n",
    "        obama_right = obama_right + 1\n",
    "    if knn.predict([all_seinfeld_tweets_BOW[i]]) == 'Jerry Seinfeld' :\n",
    "        seinfeld_right = seinfeld_right + 1\n",
    "    if knn.predict([all_gadot_tweets_BOW[i]]) == 'Gal Gadot' :\n",
    "        gadot_right = gadot_right + 1\n",
    "    \n",
    "print (\"We Succeded in: \" + str((trump_right/150)*100) + \" precent in prediction which tweets are of Trump from the tweets we generated for him\")\n",
    "print (\"We Succeded in: \" + str((hilary_right/150)*100) + \" precent in prediction which tweets are of Hilary from the tweets we generated for her\")\n",
    "print (\"We Succeded in: \" + str((obama_right/150)*100) + \" precent in prediction which tweets are of obama from the tweets we generated for him\")\n",
    "print (\"We Succeded in: \" + str((seinfeld_right/150)*100) + \" precent in prediction which tweets are of Seinfeld from the tweets we generated for him\")\n",
    "print (\"We Succeded in: \" + str((gadot_right/150)*100) + \" precent in prediction which tweets are of Gal Gadot from the tweets we generated for her\")"
   ]
  },
  {
   "cell_type": "code",
   "execution_count": null,
   "metadata": {
    "collapsed": true
   },
   "outputs": [],
   "source": [
    "knn_predict_tweeters = []\n",
    "\n",
    "for i in range(0, 150):\n",
    "    knn_predict_tweeters.extend(knn.predict([all_trump_tweets_BOW[i]]))\n",
    "\n",
    "for i in range(0, 150):\n",
    "    knn_predict_tweeters.extend(knn.predict([all_hilary_tweets_BOW[i]]))\n",
    "\n",
    "for i in range(0, 150):\n",
    "    knn_predict_tweeters.extend(knn.predict([all_obama_tweets_BOW[i]]))\n",
    "    \n",
    "for i in range(0, 150):\n",
    "    knn_predict_tweeters.extend(knn.predict([all_seinfeld_tweets_BOW[i]]))\n",
    "    \n",
    "for i in range(0, 150):\n",
    "    knn_predict_tweeters.extend(knn.predict([all_gadot_tweets_BOW[i]]))"
   ]
  },
  {
   "cell_type": "code",
   "execution_count": null,
   "metadata": {
    "collapsed": true
   },
   "outputs": [],
   "source": [
    "cnf_matrix = confusion_matrix(actual_tweeters, knn_predict_tweeters)\n",
    "np.set_printoptions(precision=2)\n",
    "\n",
    "# Plot non-normalized confusion matrix\n",
    "plt.figure()\n",
    "plot_confusion_matrix(cnf_matrix, classes=class_names,\n",
    "                      title='Confusion matrix, without normalization')\n",
    "\n",
    "plt.show()"
   ]
  },
  {
   "cell_type": "code",
   "execution_count": null,
   "metadata": {
    "collapsed": true
   },
   "outputs": [],
   "source": [
    "trump_right = 0\n",
    "hilary_right = 0\n",
    "seinfeld_right = 0\n",
    "obama_right = 0\n",
    "gadot_right = 0\n",
    "\n",
    "for i in range(0, 150):\n",
    "    if forest.predict([all_trump_tweets_BOW[i]]) == 'Donald J. Trump' :\n",
    "        trump_right = trump_right + 1\n",
    "    if forest.predict([all_hilary_tweets_BOW[i]]) == 'Hillary Clinton' :\n",
    "        hilary_right = hilary_right + 1\n",
    "    if forest.predict([all_obama_tweets_BOW[i]]) == 'Barack Obama' :\n",
    "        obama_right = obama_right + 1\n",
    "    if forest.predict([all_seinfeld_tweets_BOW[i]]) == 'Jerry Seinfeld' :\n",
    "        seinfeld_right = seinfeld_right + 1\n",
    "    if forest.predict([all_gadot_tweets_BOW[i]]) == 'Gal Gadot' :\n",
    "        gadot_right = gadot_right + 1\n",
    "    \n",
    "print (\"We Succeded in: \" + str((trump_right/150)*100) + \" precent in prediction which tweets are of Trump from the tweets we generated for him\")\n",
    "print (\"We Succeded in: \" + str((hilary_right/150)*100) + \" precent in prediction which tweets are of Hilary from the tweets we generated for her\")\n",
    "print (\"We Succeded in: \" + str((obama_right/150)*100) + \" precent in prediction which tweets are of obama from the tweets we generated for him\")\n",
    "print (\"We Succeded in: \" + str((seinfeld_right/150)*100) + \" precent in prediction which tweets are of Seinfeld from the tweets we generated for him\")\n",
    "print (\"We Succeded in: \" + str((gadot_right/150)*100) + \" precent in prediction which tweets are of Gal Gadot from the tweets we generated for her\")"
   ]
  },
  {
   "cell_type": "code",
   "execution_count": null,
   "metadata": {
    "collapsed": true
   },
   "outputs": [],
   "source": [
    "forest_predict_tweeters = []\n",
    "\n",
    "for i in range(0, 150):\n",
    "    forest_predict_tweeters.extend(forest.predict([all_trump_tweets_BOW[i]]))\n",
    "\n",
    "for i in range(0, 150):\n",
    "    forest_predict_tweeters.extend(forest.predict([all_hilary_tweets_BOW[i]]))\n",
    "\n",
    "for i in range(0, 150):\n",
    "    forest_predict_tweeters.extend(forest.predict([all_obama_tweets_BOW[i]]))\n",
    "    \n",
    "for i in range(0, 150):\n",
    "    forest_predict_tweeters.extend(forest.predict([all_seinfeld_tweets_BOW[i]]))\n",
    "    \n",
    "for i in range(0, 150):\n",
    "    forest_predict_tweeters.extend(forest.predict([all_gadot_tweets_BOW[i]]))"
   ]
  },
  {
   "cell_type": "code",
   "execution_count": null,
   "metadata": {
    "collapsed": true
   },
   "outputs": [],
   "source": [
    "cnf_matrix = confusion_matrix(actual_tweeters, forest_predict_tweeters)\n",
    "np.set_printoptions(precision=2)\n",
    "\n",
    "# Plot non-normalized confusion matrix\n",
    "plt.figure()\n",
    "plot_confusion_matrix(cnf_matrix, classes=class_names,\n",
    "                      title='Confusion matrix, without normalization')\n",
    "\n",
    "plt.show()"
   ]
  }
 ],
 "metadata": {
  "kernelspec": {
   "display_name": "Python 3",
   "language": "python",
   "name": "python3"
  },
  "language_info": {
   "codemirror_mode": {
    "name": "ipython",
    "version": 3
   },
   "file_extension": ".py",
   "mimetype": "text/x-python",
   "name": "python",
   "nbconvert_exporter": "python",
   "pygments_lexer": "ipython3",
   "version": "3.6.3"
  }
 },
 "nbformat": 4,
 "nbformat_minor": 2
}
