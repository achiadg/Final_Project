{
 "cells": [
  {
   "cell_type": "code",
   "execution_count": 1,
   "metadata": {
    "collapsed": true
   },
   "outputs": [],
   "source": [
    "consumer_key='X52uxzboZKvontEkfsLUkcGrV'\n",
    "consumer_secret='ewhRySrNg9iAt64goqU8OCPDOsWTKCqtnl0QGnj5iBlAx9EKcM'\n",
    "access_token='937304105726431232-HnzJ5MhH15cJhjTs15WD7paYOzgC5f4'\n",
    "access_token_secret='iyPDYJQaGKya4chysYlGC9jInrnp5Wn4A2LGm1T2cnmiK'"
   ]
  }
 ],
 "metadata": {
  "kernelspec": {
   "display_name": "Python 3",
   "language": "python",
   "name": "python3"
  },
  "language_info": {
   "codemirror_mode": {
    "name": "ipython",
    "version": 3
   },
   "file_extension": ".py",
   "mimetype": "text/x-python",
   "name": "python",
   "nbconvert_exporter": "python",
   "pygments_lexer": "ipython3",
   "version": "3.6.3"
  }
 },
 "nbformat": 4,
 "nbformat_minor": 2
}
