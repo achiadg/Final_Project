{
 "cells": [
  {
   "cell_type": "code",
   "execution_count": null,
   "metadata": {
    "collapsed": true
   },
   "outputs": [],
   "source": [
    "import tweepy\n",
    "%run keys.ipynb\n",
    "\n",
    "\n",
    "auth = tweepy.OAuthHandler(consumer_key, consumer_secret)\n",
    "auth.set_access_token(access_token, access_token_secret)\n",
    "api = tweepy.API(auth)"
   ]
  },
  {
   "cell_type": "code",
   "execution_count": null,
   "metadata": {
    "collapsed": true
   },
   "outputs": [],
   "source": [
    "alltweets = []\t\n",
    "curr_length = 0\n",
    "\n",
    "alltweets.extend(api.user_timeline(screen_name = \"realDonaldTrump\",count=50, tweet_mode = 'extended'))\n",
    "print('Donald Trump has {0} tweets'.format(len(alltweets) - curr_length))\n",
    "curr_length = len(alltweets)\n",
    "\n",
    "alltweets.extend(api.user_timeline(screen_name = \"HillaryClinton\",count=50, tweet_mode = 'extended'))\n",
    "print('Hillary Clinton has {0} tweets'.format(len(alltweets) - curr_length))\n",
    "curr_length = len(alltweets)\n",
    "\n",
    "alltweets.extend(api.user_timeline(screen_name = \"BarackObama\",count=50, tweet_mode = 'extended'))\n",
    "print('Barack Obama has {0} tweets'.format(len(alltweets) - curr_length))\n",
    "curr_length = len(alltweets)\n",
    "\n",
    "alltweets.extend(api.user_timeline(screen_name = \"JerrySeinfeld\",count=50, tweet_mode = 'extended'))\n",
    "print('Jerry Seinfeld has {0} tweets'.format(len(alltweets) - curr_length))\n",
    "curr_length = len(alltweets)\n",
    "\n",
    "alltweets.extend(api.user_timeline(screen_name = \"GalGadot\",count=50, tweet_mode = 'extended'))\n",
    "print('Gal Gadot has {0} tweets'.format(len(alltweets) - curr_length))\n",
    "curr_length = len(alltweets)"
   ]
  },
  {
   "cell_type": "code",
   "execution_count": null,
   "metadata": {
    "collapsed": true
   },
   "outputs": [],
   "source": [
    "import re\n",
    "\n",
    "def clean_text(text):\n",
    "    text_updated = \" \".join(filter(lambda x: '#' not in x and '@' not in x and 'http' not in x, text.split()))\n",
    "    return re.sub(\"[^a-zA-Z']\",   # The pattern to search for: in this case- all characters but english letters\n",
    "                      \" \",                   # The pattern to replace it with\n",
    "                      text_updated)"
   ]
  },
  {
   "cell_type": "code",
   "execution_count": null,
   "metadata": {
    "collapsed": true
   },
   "outputs": [],
   "source": [
    "import nltk\n",
    "\n",
    "porter = nltk.PorterStemmer()\n",
    "lancaster = nltk.LancasterStemmer()\n",
    "\n",
    "def stem_sentence(sentence):\n",
    "    return \" \".join([lancaster.stem(w) for w in sentence.split(\" \")])\n"
   ]
  },
  {
   "cell_type": "code",
   "execution_count": null,
   "metadata": {
    "collapsed": true
   },
   "outputs": [],
   "source": [
    "import pandas as pd\n",
    "import numpy as np\n",
    "\n",
    "TEXT_IDX = 1\n",
    "NAME_IDX = 0\n",
    "\n",
    "alltweets_name_and_text = [[tweet.user.name, clean_text(tweet.full_text)] for tweet in alltweets]\n",
    "\n",
    "alltweets_text = [stem_sentence(tweet[TEXT_IDX]) for tweet in alltweets_name_and_text]\n",
    "alltweets_name = [tweet[NAME_IDX] for tweet in alltweets_name_and_text]\n",
    "alltweets_names_as_df = pd.DataFrame({'Name' : np.array(alltweets_name)})\n",
    "\n",
    "print(alltweets_text)"
   ]
  }
 ],
 "metadata": {
  "kernelspec": {
   "display_name": "Python 3",
   "language": "python",
   "name": "python3"
  },
  "language_info": {
   "codemirror_mode": {
    "name": "ipython",
    "version": 3
   },
   "file_extension": ".py",
   "mimetype": "text/x-python",
   "name": "python",
   "nbconvert_exporter": "python",
   "pygments_lexer": "ipython3",
   "version": "3.6.3"
  }
 },
 "nbformat": 4,
 "nbformat_minor": 2
}
