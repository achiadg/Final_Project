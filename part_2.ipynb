{
 "cells": [
  {
   "cell_type": "code",
   "execution_count": null,
   "metadata": {
    "collapsed": true
   },
   "outputs": [],
   "source": [
    "from nltk.corpus import stopwords # Import the stop word list\n",
    "\n",
    "print(\"Creating the bag of words...\\n\")\n",
    "from sklearn.feature_extraction.text import CountVectorizer\n",
    "\n",
    "def create_bag_of_words(all_tweets):\n",
    "\n",
    "    # Initialize the \"CountVectorizer\" object, which is scikit-learn's\n",
    "    # bag of words tool.  \n",
    "    vectorizer = CountVectorizer(analyzer = \"word\",   \\\n",
    "                                 tokenizer = None,    \\\n",
    "                                 preprocessor = None, \\\n",
    "                                 stop_words = stopwords.words(\"english\") ,   \\\n",
    "                                 max_features = 1000) \n",
    "\n",
    "    # fit_transform() Convert a collection of text documents (reviews in our example) to a matrix of token counts.\n",
    "    # This implementation produces a sparse representation.\n",
    "    # The input to fit_transform should be a list of strings.\n",
    "    train_data_features = vectorizer.fit_transform(all_tweets)\n",
    "    ###train_data_features = vectorizer.fit_transform(train['review'])\n",
    "    \n",
    "    # Numpy arrays are easy to work with, so convert the result to an \n",
    "    # array\n",
    "    return train_data_features.toarray()\n",
    "    \n",
    "train_data_features = create_bag_of_words(alltweets_text)"
   ]
  },
  {
   "cell_type": "code",
   "execution_count": null,
   "metadata": {
    "collapsed": true
   },
   "outputs": [],
   "source": [
    "#split to train & test\n",
    "msk = np.random.rand(len(train_data_features)) < 0.8\n",
    "\n",
    "train_x = train_data_features[msk]\n",
    "test_x = train_data_features[~msk]\n",
    "train_y = alltweets_names_as_df.loc[msk, 'Name']\n",
    "test_y = alltweets_names_as_df.loc[~msk, 'Name']"
   ]
  },
  {
   "cell_type": "code",
   "execution_count": null,
   "metadata": {
    "collapsed": true
   },
   "outputs": [],
   "source": [
    "from sklearn.ensemble import RandomForestClassifier\n",
    "\n",
    "# Initialize a Random Forest classifier with 100 trees\n",
    "forest = RandomForestClassifier(n_estimators = 100) \n",
    "\n",
    "# Fit the forest to the training set, using the bag of words as \n",
    "# features and the sentiment labels as the response variable\n",
    "forest = forest.fit( train_x, train_y )\n",
    "\n",
    "# Evaluate accuracy best on the test set\n",
    "random_forest = forest.score(test_x,test_y)\n",
    "\n",
    "random_forest"
   ]
  },
  {
   "cell_type": "code",
   "execution_count": null,
   "metadata": {
    "collapsed": true
   },
   "outputs": [],
   "source": [
    "from sklearn.neighbors import KNeighborsClassifier\n",
    "\n",
    "# Initialize a knn classifier with n_neighbors = 13, weights = 'uniform'\n",
    "knn = KNeighborsClassifier(n_neighbors = 13, weights = 'uniform')\n",
    "\n",
    "# Fit the knn to the training set, using the bag of words as \n",
    "# features and the sentiment labels as the response variable\n",
    "knn = knn.fit( train_x, train_y )\n",
    "\n",
    "# Evaluate accuracy best on the test set\n",
    "k_near_neighbur = knn.score(test_x,test_y)\n",
    "\n",
    "k_near_neighbur"
   ]
  },
  {
   "cell_type": "code",
   "execution_count": null,
   "metadata": {
    "collapsed": true
   },
   "outputs": [],
   "source": [
    "from sklearn import svm\n",
    "\n",
    "# Initialize a svc classifier with gamma = 0.001, C = 100, degree = 3\n",
    "svc = svm.SVC(gamma = 0.001, C = 100, degree = 3)\n",
    "\n",
    "# Fit the svc to the training set, using the bag of words as \n",
    "# features and the sentiment labels as the response variable\n",
    "svc = svc.fit( train_x, train_y )\n",
    "\n",
    "# Evaluate accuracy best on the test set\n",
    "support_vector = svc.score(test_x,test_y)\n",
    "\n",
    "support_vector"
   ]
  },
  {
   "cell_type": "code",
   "execution_count": null,
   "metadata": {
    "collapsed": true
   },
   "outputs": [],
   "source": [
    "from sklearn.linear_model import LogisticRegression\n",
    "\n",
    "# Initialize a logistic regression classifier.\n",
    "regresion = LogisticRegression()\n",
    "\n",
    "# Fit the regression to the training set, using the bag of words as \n",
    "# features and the sentiment labels as the response variable\n",
    "regresion = regresion.fit( train_x, train_y )\n",
    "\n",
    "# Evaluate accuracy best on the test set\n",
    "regression_logistic = regresion.score(test_x,test_y)\n",
    "\n",
    "regression_logistic"
   ]
  },
  {
   "cell_type": "code",
   "execution_count": null,
   "metadata": {
    "collapsed": true
   },
   "outputs": [],
   "source": [
    "from sklearn.naive_bayes import GaussianNB\n",
    "\n",
    "# Initialize a Naive Bayes classifier.\n",
    "nb = GaussianNB()\n",
    "\n",
    "# Fit the Naive Bayes to the training set, using the bag of words as \n",
    "# features and the sentiment labels as the response variable\n",
    "nb = nb.fit( train_x, train_y )\n",
    "\n",
    "# Evaluate accuracy best on the test set\n",
    "naive_bayes = nb.score(test_x,test_y)\n",
    "\n",
    "naive_bayes"
   ]
  },
  {
   "cell_type": "code",
   "execution_count": null,
   "metadata": {
    "collapsed": true
   },
   "outputs": [],
   "source": [
    "import matplotlib.pyplot as plt\n",
    "import plotly.plotly as py\n",
    "\n",
    "dictionary = plt.figure()\n",
    "\n",
    "D = {u'Random_Forest':random_forest, u'KNN': k_near_neighbur, u'SVC':support_vector , u'Regression':regression_logistic, u'Naive_Bayes':naive_bayes}\n",
    "\n",
    "plt.bar(range(len(D)), D.values(), align='center')\n",
    "plt.xticks(range(len(D)), D.keys())\n",
    "\n",
    "plt.show()"
   ]
  }
 ],
 "metadata": {
  "kernelspec": {
   "display_name": "Python 3",
   "language": "python",
   "name": "python3"
  },
  "language_info": {
   "codemirror_mode": {
    "name": "ipython",
    "version": 3
   },
   "file_extension": ".py",
   "mimetype": "text/x-python",
   "name": "python",
   "nbconvert_exporter": "python",
   "pygments_lexer": "ipython3",
   "version": "3.6.3"
  }
 },
 "nbformat": 4,
 "nbformat_minor": 2
}
